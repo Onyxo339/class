{
  "nbformat": 4,
  "nbformat_minor": 0,
  "metadata": {
    "colab": {
      "provenance": [],
      "authorship_tag": "ABX9TyNCmn3pguXNbkJRZQS9m8Qx",
      "include_colab_link": true
    },
    "kernelspec": {
      "name": "python3",
      "display_name": "Python 3"
    },
    "language_info": {
      "name": "python"
    }
  },
  "cells": [
    {
      "cell_type": "markdown",
      "metadata": {
        "id": "view-in-github",
        "colab_type": "text"
      },
      "source": [
        "<a href=\"https://colab.research.google.com/github/Onyxo339/class/blob/main/Kopie_se%C5%A1itu_Untitled0.ipynb\" target=\"_parent\"><img src=\"https://colab.research.google.com/assets/colab-badge.svg\" alt=\"Open In Colab\"/></a>"
      ]
    },
    {
      "cell_type": "markdown",
      "source": [],
      "metadata": {
        "id": "659QBDfTMGHG"
      }
    },
    {
      "cell_type": "markdown",
      "source": [
        "# Třídy\n"
      ],
      "metadata": {
        "id": "vAJTw1IHMJ3H"
      }
    },
    {
      "cell_type": "code",
      "source": [
        "class dog():\n",
        "  def __init__(self, name, breed, age):\n",
        "    self.name = name\n",
        "    self.breed = breed\n",
        "    self.age = age\n",
        "  \n",
        "  def sit(self):\n",
        "    print(f\"{self.name} sedí\")\n",
        "  \n",
        "  def rollover(self):\n",
        "    print(f\"{self.name} se přetočil\")"
      ],
      "metadata": {
        "id": "1QrFLiE4MRHN"
      },
      "execution_count": null,
      "outputs": []
    },
    {
      "cell_type": "markdown",
      "source": [
        "# Použití"
      ],
      "metadata": {
        "id": "3zZjU-xZOo7e"
      }
    },
    {
      "cell_type": "code",
      "source": [
        "my_dog = dog('Max', ' ńěmecký ovčák', '5')\n",
        "print(f\"Jméno mého psa je {my_dog.name}\")\n",
        "print(f\"Můj pes je {my_dog.breed}\")\n",
        "print(f\"Mému psovi je {my_dog.age} let\")\n",
        "\n",
        "my_dog.sit()\n",
        "my_dog.rollover()"
      ],
      "metadata": {
        "colab": {
          "base_uri": "https://localhost:8080/"
        },
        "id": "rU_Z9gtcOwst",
        "outputId": "796de1b8-c146-4b71-f26b-d5b168e111cf"
      },
      "execution_count": null,
      "outputs": [
        {
          "output_type": "stream",
          "name": "stdout",
          "text": [
            "Jméno mého psa je Max\n",
            "Můj pes je  ńěmecký ovčák\n",
            "Mému psovi je 5 let\n",
            "Max sedí\n",
            "Max se přetočil\n"
          ]
        }
      ]
    }
  ]
}